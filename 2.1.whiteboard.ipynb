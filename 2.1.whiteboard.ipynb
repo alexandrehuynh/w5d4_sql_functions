{
 "cells": [
  {
   "cell_type": "code",
   "execution_count": 1,
   "id": "984bf4f9-8d4e-4bf3-9a31-8205e145d223",
   "metadata": {},
   "outputs": [],
   "source": [
    "# Find Bold Words In String\n",
    "# Given a string as a parameter to a function, find all of the words inside the string that should be bolded.\n",
    "#  A bolded word starts with any of the regular vowels in the alphabet ('aeiou'). \n",
    "# Return the words that should be bolded in a list/array\n",
    "\n",
    "# Example:\n",
    "# Input: 'The Black Dog sits among the apple tree'\n",
    "# Output: [ 'among', 'apple']\n",
    "# Input: 'The umbrella company strikes again'.\n",
    "# Output: [ 'umbrella', 'again']"
   ]
  },
  {
   "cell_type": "code",
   "execution_count": 32,
   "id": "5483a6f5-a038-4890-9e22-93bdfaae5e28",
   "metadata": {},
   "outputs": [],
   "source": [
    "sentence ='The Black Dog sits among the apple tree'\n",
    "sentence1 = 'The umbrella company strikes again'\n",
    "sentence2 = 'My name is Alex and I like to eat apple pie'\n",
    "sentence3 = 'Coding Temple is more than halfway through, how scary!'"
   ]
  },
  {
   "cell_type": "code",
   "execution_count": 33,
   "id": "613b9854-39c4-44d7-9ac2-b82db993c13d",
   "metadata": {},
   "outputs": [],
   "source": [
    "def i_like_vowels(sentence):\n",
    "\n",
    "    # initialize array\n",
    "    vowels_start = []\n",
    "\n",
    "    # split the sentence into individual words\n",
    "    words = sentence.split()\n",
    "\n",
    "    # parse through the list\n",
    "    for word in words:\n",
    "        # lower all words, check if it first letter starts with aeiou\n",
    "        if word[0].lower() in 'aeiou':\n",
    "            # if so add to list\n",
    "            vowels_start.append(word)\n",
    "            \n",
    "    return vowels_start"
   ]
  },
  {
   "cell_type": "code",
   "execution_count": 34,
   "id": "adeb936c-babe-487c-82d0-b6a8da54d962",
   "metadata": {},
   "outputs": [
    {
     "data": {
      "text/plain": [
       "['among', 'apple']"
      ]
     },
     "execution_count": 34,
     "metadata": {},
     "output_type": "execute_result"
    }
   ],
   "source": [
    "i_like_vowels(sentence)"
   ]
  },
  {
   "cell_type": "code",
   "execution_count": 36,
   "id": "4c4770a6-2525-4f23-9855-9bf03c8b14b8",
   "metadata": {},
   "outputs": [],
   "source": [
    "def i_like_vowels2(sentence):\n",
    "\n",
    "    # initialize array\n",
    "    vowels_start = []\n",
    "\n",
    "    # parse through the list\n",
    "    for word in sentence.lower().split():\n",
    "        if word[0] in 'aeiou':\n",
    "            vowels_start.append(word)\n",
    "            \n",
    "    return vowels_start"
   ]
  },
  {
   "cell_type": "code",
   "execution_count": 37,
   "id": "184ce857-0d7a-4bd6-acb2-99b46518b057",
   "metadata": {},
   "outputs": [
    {
     "data": {
      "text/plain": [
       "['umbrella', 'again']"
      ]
     },
     "execution_count": 37,
     "metadata": {},
     "output_type": "execute_result"
    }
   ],
   "source": [
    "i_like_vowels2(sentence1)"
   ]
  },
  {
   "cell_type": "code",
   "execution_count": 38,
   "id": "796e6d63-d6b7-43ba-9133-f65bbf18085c",
   "metadata": {},
   "outputs": [],
   "source": [
    "def i_like_vowels3(sentence):\n",
    "\n",
    "    return [word for word in sentence.lower().split() if word[0] in 'aeiou']"
   ]
  },
  {
   "cell_type": "code",
   "execution_count": 39,
   "id": "0215c217-daf9-4ff1-a61e-d4977567e4aa",
   "metadata": {},
   "outputs": [
    {
     "data": {
      "text/plain": [
       "['is', 'alex', 'and', 'i', 'eat', 'apple']"
      ]
     },
     "execution_count": 39,
     "metadata": {},
     "output_type": "execute_result"
    }
   ],
   "source": [
    "i_like_vowels3(sentence2)"
   ]
  },
  {
   "cell_type": "code",
   "execution_count": 40,
   "id": "b4a2f10f-51d4-4f60-b250-16342cfaac67",
   "metadata": {},
   "outputs": [],
   "source": [
    "def i_like_vowels4(sentence):\n",
    "\n",
    "    return list(filter(lambda word: word[0] in 'aeiou', sentence.lower().split()))"
   ]
  },
  {
   "cell_type": "code",
   "execution_count": 41,
   "id": "ab4c67ef-a01c-4350-9674-90d66d3a6505",
   "metadata": {},
   "outputs": [
    {
     "data": {
      "text/plain": [
       "['is']"
      ]
     },
     "execution_count": 41,
     "metadata": {},
     "output_type": "execute_result"
    }
   ],
   "source": [
    "i_like_vowels4(sentence3)"
   ]
  },
  {
   "cell_type": "code",
   "execution_count": null,
   "id": "59794a94-283f-4bfe-8a7b-7e3f1113d4f5",
   "metadata": {},
   "outputs": [],
   "source": []
  }
 ],
 "metadata": {
  "kernelspec": {
   "display_name": "Python 3 (ipykernel)",
   "language": "python",
   "name": "python3"
  },
  "language_info": {
   "codemirror_mode": {
    "name": "ipython",
    "version": 3
   },
   "file_extension": ".py",
   "mimetype": "text/x-python",
   "name": "python",
   "nbconvert_exporter": "python",
   "pygments_lexer": "ipython3",
   "version": "3.11.7"
  }
 },
 "nbformat": 4,
 "nbformat_minor": 5
}
